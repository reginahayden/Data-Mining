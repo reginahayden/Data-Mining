{
 "cells": [
  {
   "cell_type": "markdown",
   "metadata": {},
   "source": [
    "# Praktikum 1"
   ]
  },
  {
   "cell_type": "code",
   "execution_count": 1,
   "metadata": {},
   "outputs": [
    {
     "name": "stdout",
     "output_type": "stream",
     "text": [
      "['apple', 'banana']\n",
      "['This is string', 10]\n",
      "(['apple', 'banana'], ['This is string', 10])\n"
     ]
    }
   ],
   "source": [
    "fruits = [\"apple\", \"banana\"]\n",
    "another_list = [\"This is string\", 10]\n",
    "\n",
    "print(fruits)\n",
    "print(another_list)\n",
    "\n",
    "combined = (fruits, another_list)\n",
    "print(combined)"
   ]
  },
  {
   "cell_type": "code",
   "execution_count": 3,
   "metadata": {},
   "outputs": [
    {
     "name": "stdout",
     "output_type": "stream",
     "text": [
      "['apple', 'banana', 'This is string', 10]\n"
     ]
    }
   ],
   "source": [
    "gabung = fruits + another_list\n",
    "print(gabung)"
   ]
  },
  {
   "cell_type": "code",
   "execution_count": 7,
   "metadata": {},
   "outputs": [
    {
     "name": "stdout",
     "output_type": "stream",
     "text": [
      "['apple', 'banana', 'durians']\n",
      "['apple', 'banana', 'durians', 'strawberry']\n"
     ]
    }
   ],
   "source": [
    "#Add element to a list\n",
    "fruits = [\"apple\", \"banana\"]\n",
    "fruits.append(\"durians\")\n",
    "print(fruits)\n",
    "\n",
    "#atau\n",
    "fruits = fruits+[\"strawberry\"]\n",
    "print(fruits)"
   ]
  },
  {
   "cell_type": "code",
   "execution_count": 12,
   "metadata": {},
   "outputs": [
    {
     "name": "stdout",
     "output_type": "stream",
     "text": [
      "(0, 6)\n",
      "('pink', 'purple', 'blue')\n",
      "(0, 6) ('pink', 'purple', 'blue')\n"
     ]
    }
   ],
   "source": [
    "#TUPLE\n",
    "coordinate = (0,6)\n",
    "colors = (\"pink\", \"purple\", \"blue\")\n",
    "print(coordinate)\n",
    "print(colors)\n",
    "print(coordinate, colors)"
   ]
  },
  {
   "cell_type": "markdown",
   "metadata": {},
   "source": [
    "# Data Integration"
   ]
  },
  {
   "cell_type": "code",
   "execution_count": 40,
   "metadata": {},
   "outputs": [],
   "source": [
    "import pandas as pd\n",
    "import numpy as np"
   ]
  },
  {
   "cell_type": "code",
   "execution_count": 20,
   "metadata": {},
   "outputs": [],
   "source": [
    "## Merging\n",
    "left = pd.DataFrame({'key':['K0','K1','K2'],\n",
    "                    'A':['A0','A1','A2'],\n",
    "                    'B': ['B0','B1','B2']})\n",
    "\n",
    "right = pd.DataFrame({'key':['K0','K1','K2'],\n",
    "                    'C':['C0','C1','CC2'],\n",
    "                    'D': ['D0','D1','D2']})\n",
    "\n",
    "result1 = pd.merge(left, right, on='key')"
   ]
  },
  {
   "cell_type": "code",
   "execution_count": 18,
   "metadata": {},
   "outputs": [
    {
     "name": "stdout",
     "output_type": "stream",
     "text": [
      "  key   A   B    C   D\n",
      "0  K0  A0  B0   C0  D0\n",
      "1  K1  A1  B1   C1  D1\n",
      "2  K2  A2  B2  CC2  D2\n"
     ]
    }
   ],
   "source": [
    "print(result1)"
   ]
  },
  {
   "cell_type": "code",
   "execution_count": 19,
   "metadata": {},
   "outputs": [
    {
     "data": {
      "text/html": [
       "<div>\n",
       "<style scoped>\n",
       "    .dataframe tbody tr th:only-of-type {\n",
       "        vertical-align: middle;\n",
       "    }\n",
       "\n",
       "    .dataframe tbody tr th {\n",
       "        vertical-align: top;\n",
       "    }\n",
       "\n",
       "    .dataframe thead th {\n",
       "        text-align: right;\n",
       "    }\n",
       "</style>\n",
       "<table border=\"1\" class=\"dataframe\">\n",
       "  <thead>\n",
       "    <tr style=\"text-align: right;\">\n",
       "      <th></th>\n",
       "      <th>key</th>\n",
       "      <th>A</th>\n",
       "      <th>B</th>\n",
       "      <th>C</th>\n",
       "      <th>D</th>\n",
       "    </tr>\n",
       "  </thead>\n",
       "  <tbody>\n",
       "    <tr>\n",
       "      <th>0</th>\n",
       "      <td>K0</td>\n",
       "      <td>A0</td>\n",
       "      <td>B0</td>\n",
       "      <td>C0</td>\n",
       "      <td>D0</td>\n",
       "    </tr>\n",
       "    <tr>\n",
       "      <th>1</th>\n",
       "      <td>K1</td>\n",
       "      <td>A1</td>\n",
       "      <td>B1</td>\n",
       "      <td>C1</td>\n",
       "      <td>D1</td>\n",
       "    </tr>\n",
       "    <tr>\n",
       "      <th>2</th>\n",
       "      <td>K2</td>\n",
       "      <td>A2</td>\n",
       "      <td>B2</td>\n",
       "      <td>CC2</td>\n",
       "      <td>D2</td>\n",
       "    </tr>\n",
       "  </tbody>\n",
       "</table>\n",
       "</div>"
      ],
      "text/plain": [
       "  key   A   B    C   D\n",
       "0  K0  A0  B0   C0  D0\n",
       "1  K1  A1  B1   C1  D1\n",
       "2  K2  A2  B2  CC2  D2"
      ]
     },
     "execution_count": 19,
     "metadata": {},
     "output_type": "execute_result"
    }
   ],
   "source": [
    "result1"
   ]
  },
  {
   "cell_type": "code",
   "execution_count": 24,
   "metadata": {},
   "outputs": [
    {
     "data": {
      "text/html": [
       "<div>\n",
       "<style scoped>\n",
       "    .dataframe tbody tr th:only-of-type {\n",
       "        vertical-align: middle;\n",
       "    }\n",
       "\n",
       "    .dataframe tbody tr th {\n",
       "        vertical-align: top;\n",
       "    }\n",
       "\n",
       "    .dataframe thead th {\n",
       "        text-align: right;\n",
       "    }\n",
       "</style>\n",
       "<table border=\"1\" class=\"dataframe\">\n",
       "  <thead>\n",
       "    <tr style=\"text-align: right;\">\n",
       "      <th></th>\n",
       "      <th>key1</th>\n",
       "      <th>key2</th>\n",
       "      <th>A</th>\n",
       "      <th>B</th>\n",
       "      <th>C</th>\n",
       "      <th>D</th>\n",
       "    </tr>\n",
       "  </thead>\n",
       "  <tbody>\n",
       "    <tr>\n",
       "      <th>0</th>\n",
       "      <td>K0</td>\n",
       "      <td>K0</td>\n",
       "      <td>A0</td>\n",
       "      <td>B0</td>\n",
       "      <td>C0</td>\n",
       "      <td>D0</td>\n",
       "    </tr>\n",
       "    <tr>\n",
       "      <th>1</th>\n",
       "      <td>K1</td>\n",
       "      <td>K0</td>\n",
       "      <td>A2</td>\n",
       "      <td>B2</td>\n",
       "      <td>C1</td>\n",
       "      <td>D1</td>\n",
       "    </tr>\n",
       "    <tr>\n",
       "      <th>2</th>\n",
       "      <td>K1</td>\n",
       "      <td>K0</td>\n",
       "      <td>A2</td>\n",
       "      <td>B2</td>\n",
       "      <td>C2</td>\n",
       "      <td>D2</td>\n",
       "    </tr>\n",
       "  </tbody>\n",
       "</table>\n",
       "</div>"
      ],
      "text/plain": [
       "  key1 key2   A   B   C   D\n",
       "0   K0   K0  A0  B0  C0  D0\n",
       "1   K1   K0  A2  B2  C1  D1\n",
       "2   K1   K0  A2  B2  C2  D2"
      ]
     },
     "execution_count": 24,
     "metadata": {},
     "output_type": "execute_result"
    }
   ],
   "source": [
    "## Multiple Key\n",
    "left = pd.DataFrame({'key1':['K0','K0','K1','K2'],\n",
    "                     'key2':['K0','K1','K0','K1'],\n",
    "                    'A':['A0','A1','A2','A3'],\n",
    "                    'B': ['B0','B1','B2','B3']})\n",
    "\n",
    "right = pd.DataFrame({'key1':['K0','K1','K1','K2'],\n",
    "                     'key2':['K0','K0','K0','K0'],\n",
    "                    'C':['C0','C1','C2','C3'],\n",
    "                    'D': ['D0','D1','D2','D3']})\n",
    "\n",
    "result2 = pd.merge(left, right, on=['key1','key2'])\n",
    "result2"
   ]
  },
  {
   "cell_type": "code",
   "execution_count": null,
   "metadata": {},
   "outputs": [],
   "source": [
    "# Menggabungkan data dalam satu excel\n",
    "movie.to_csv(\"hasil_movie.csv\")\n",
    "\n",
    "movie1=pd.read_csv(\"D:\\Data Mining.hasil_movie.csv\")\n",
    "movie2=pd.read_csv(\"D:\\..............csv\")\n",
    "\n",
    "movie_complete=pd.merge(movie1,movie2, on='movie_code')\n",
    "movie_complete.head()"
   ]
  },
  {
   "cell_type": "code",
   "execution_count": null,
   "metadata": {},
   "outputs": [],
   "source": []
  },
  {
   "cell_type": "code",
   "execution_count": 48,
   "metadata": {},
   "outputs": [
    {
     "data": {
      "text/html": [
       "<div>\n",
       "<style scoped>\n",
       "    .dataframe tbody tr th:only-of-type {\n",
       "        vertical-align: middle;\n",
       "    }\n",
       "\n",
       "    .dataframe tbody tr th {\n",
       "        vertical-align: top;\n",
       "    }\n",
       "\n",
       "    .dataframe thead th {\n",
       "        text-align: right;\n",
       "    }\n",
       "</style>\n",
       "<table border=\"1\" class=\"dataframe\">\n",
       "  <thead>\n",
       "    <tr style=\"text-align: right;\">\n",
       "      <th></th>\n",
       "      <th>movie_code</th>\n",
       "      <th>duration_x</th>\n",
       "      <th>poster_x</th>\n",
       "      <th>country_x</th>\n",
       "      <th>budget_x</th>\n",
       "      <th>gross_x</th>\n",
       "      <th>duration_y</th>\n",
       "      <th>poster_y</th>\n",
       "      <th>country_y</th>\n",
       "      <th>budget_y</th>\n",
       "      <th>gross_y</th>\n",
       "    </tr>\n",
       "  </thead>\n",
       "  <tbody>\n",
       "    <tr>\n",
       "      <th>0</th>\n",
       "      <td>1</td>\n",
       "      <td>23</td>\n",
       "      <td>2</td>\n",
       "      <td>USA</td>\n",
       "      <td>4543333</td>\n",
       "      <td>33434</td>\n",
       "      <td>43</td>\n",
       "      <td>2</td>\n",
       "      <td>Europe</td>\n",
       "      <td>323434</td>\n",
       "      <td>43322</td>\n",
       "    </tr>\n",
       "    <tr>\n",
       "      <th>1</th>\n",
       "      <td>2</td>\n",
       "      <td>43</td>\n",
       "      <td>4</td>\n",
       "      <td>USA</td>\n",
       "      <td>643444</td>\n",
       "      <td>23434</td>\n",
       "      <td>22</td>\n",
       "      <td>4</td>\n",
       "      <td>USA</td>\n",
       "      <td>434444</td>\n",
       "      <td>44444</td>\n",
       "    </tr>\n",
       "    <tr>\n",
       "      <th>2</th>\n",
       "      <td>3</td>\n",
       "      <td>21</td>\n",
       "      <td>3</td>\n",
       "      <td>USA</td>\n",
       "      <td>4342243</td>\n",
       "      <td>54333</td>\n",
       "      <td>55</td>\n",
       "      <td>3</td>\n",
       "      <td>USA</td>\n",
       "      <td>55454</td>\n",
       "      <td>87666</td>\n",
       "    </tr>\n",
       "    <tr>\n",
       "      <th>3</th>\n",
       "      <td>4</td>\n",
       "      <td>65</td>\n",
       "      <td>2</td>\n",
       "      <td>Europe</td>\n",
       "      <td>644335</td>\n",
       "      <td>34234</td>\n",
       "      <td>32</td>\n",
       "      <td>2</td>\n",
       "      <td>Europe</td>\n",
       "      <td>534343</td>\n",
       "      <td>54554</td>\n",
       "    </tr>\n",
       "  </tbody>\n",
       "</table>\n",
       "</div>"
      ],
      "text/plain": [
       "   movie_code  duration_x  poster_x country_x  budget_x  gross_x  duration_y  \\\n",
       "0           1          23         2       USA   4543333    33434          43   \n",
       "1           2          43         4       USA    643444    23434          22   \n",
       "2           3          21         3       USA   4342243    54333          55   \n",
       "3           4          65         2    Europe    644335    34234          32   \n",
       "\n",
       "   poster_y country_y  budget_y  gross_y  \n",
       "0         2    Europe    323434    43322  \n",
       "1         4       USA    434444    44444  \n",
       "2         3       USA     55454    87666  \n",
       "3         2    Europe    534343    54554  "
      ]
     },
     "execution_count": 48,
     "metadata": {},
     "output_type": "execute_result"
    }
   ],
   "source": [
    "movie1=pd.read_csv(\"D:\\Data Mining\\hasil_movie.csv\", sep=\";\")\n",
    "movie2 = pd.read_csv(\"D:\\Data Mining\\hasil_movie1.csv\", sep=\";\")\n",
    "movie_complete=pd.merge(movie1,movie2, on='movie_code')\n",
    "movie_complete.head()"
   ]
  },
  {
   "cell_type": "code",
   "execution_count": 47,
   "metadata": {},
   "outputs": [
    {
     "data": {
      "text/html": [
       "<div>\n",
       "<style scoped>\n",
       "    .dataframe tbody tr th:only-of-type {\n",
       "        vertical-align: middle;\n",
       "    }\n",
       "\n",
       "    .dataframe tbody tr th {\n",
       "        vertical-align: top;\n",
       "    }\n",
       "\n",
       "    .dataframe thead th {\n",
       "        text-align: right;\n",
       "    }\n",
       "</style>\n",
       "<table border=\"1\" class=\"dataframe\">\n",
       "  <thead>\n",
       "    <tr style=\"text-align: right;\">\n",
       "      <th></th>\n",
       "      <th>movie_code</th>\n",
       "      <th>duration</th>\n",
       "      <th>poster</th>\n",
       "      <th>country</th>\n",
       "      <th>budget</th>\n",
       "      <th>gross</th>\n",
       "    </tr>\n",
       "  </thead>\n",
       "  <tbody>\n",
       "    <tr>\n",
       "      <th>0</th>\n",
       "      <td>1</td>\n",
       "      <td>23</td>\n",
       "      <td>2</td>\n",
       "      <td>USA</td>\n",
       "      <td>4543333</td>\n",
       "      <td>33434</td>\n",
       "    </tr>\n",
       "    <tr>\n",
       "      <th>1</th>\n",
       "      <td>2</td>\n",
       "      <td>43</td>\n",
       "      <td>4</td>\n",
       "      <td>USA</td>\n",
       "      <td>643444</td>\n",
       "      <td>23434</td>\n",
       "    </tr>\n",
       "    <tr>\n",
       "      <th>2</th>\n",
       "      <td>3</td>\n",
       "      <td>21</td>\n",
       "      <td>3</td>\n",
       "      <td>USA</td>\n",
       "      <td>4342243</td>\n",
       "      <td>54333</td>\n",
       "    </tr>\n",
       "    <tr>\n",
       "      <th>3</th>\n",
       "      <td>4</td>\n",
       "      <td>65</td>\n",
       "      <td>2</td>\n",
       "      <td>Europe</td>\n",
       "      <td>644335</td>\n",
       "      <td>34234</td>\n",
       "    </tr>\n",
       "  </tbody>\n",
       "</table>\n",
       "</div>"
      ],
      "text/plain": [
       "   movie_code  duration  poster country   budget  gross\n",
       "0           1        23       2     USA  4543333  33434\n",
       "1           2        43       4     USA   643444  23434\n",
       "2           3        21       3     USA  4342243  54333\n",
       "3           4        65       2  Europe   644335  34234"
      ]
     },
     "execution_count": 47,
     "metadata": {},
     "output_type": "execute_result"
    }
   ],
   "source": [
    "movie1"
   ]
  },
  {
   "cell_type": "code",
   "execution_count": 57,
   "metadata": {},
   "outputs": [],
   "source": [
    "# Menyimpan excell langsung ke file di laptop \n",
    "movie_complete.to_csv(\"D:/Data Mining/moviebaru.csv\")"
   ]
  },
  {
   "cell_type": "code",
   "execution_count": null,
   "metadata": {},
   "outputs": [],
   "source": []
  },
  {
   "cell_type": "code",
   "execution_count": null,
   "metadata": {},
   "outputs": [],
   "source": []
  },
  {
   "cell_type": "code",
   "execution_count": null,
   "metadata": {},
   "outputs": [],
   "source": []
  },
  {
   "cell_type": "code",
   "execution_count": null,
   "metadata": {},
   "outputs": [],
   "source": []
  },
  {
   "cell_type": "code",
   "execution_count": null,
   "metadata": {},
   "outputs": [],
   "source": []
  },
  {
   "cell_type": "code",
   "execution_count": null,
   "metadata": {},
   "outputs": [],
   "source": []
  }
 ],
 "metadata": {
  "kernelspec": {
   "display_name": "Python 3",
   "language": "python",
   "name": "python3"
  },
  "language_info": {
   "codemirror_mode": {
    "name": "ipython",
    "version": 3
   },
   "file_extension": ".py",
   "mimetype": "text/x-python",
   "name": "python",
   "nbconvert_exporter": "python",
   "pygments_lexer": "ipython3",
   "version": "3.7.1"
  }
 },
 "nbformat": 4,
 "nbformat_minor": 2
}
